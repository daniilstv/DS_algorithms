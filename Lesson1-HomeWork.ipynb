{
 "cells": [
  {
   "cell_type": "markdown",
   "metadata": {},
   "source": [
    "## Практическое задание\n",
    "Дьяченко Даниил @daniilstv\n",
    "\n",
    "https://geekbrains.ru/lessons/60318/homework"
   ]
  },
  {
   "cell_type": "markdown",
   "metadata": {},
   "source": [
    "### Урок 1. Алгоритм линейной регрессии. Градиентный спуск"
   ]
  },
  {
   "cell_type": "markdown",
   "metadata": {},
   "source": [
    "### Простая линейная регрессия"
   ]
  },
  {
   "cell_type": "markdown",
   "metadata": {},
   "source": [
    "Линейная регрессия - это метод прогнозирования, которому уже более 200 лет.  \n",
    "Простая линейная регрессия - это отличный первый алгоритм машинного обучения для самостоятельной реализации, поскольку он быстро настраивается и достаточно прост для понимания.  \n",
    "В этом уроке вы узнаете, как реализовать простой алгоритм линейной регрессии с нуля в Python. \n",
    "\n",
    "После завершения этого урока вы узнаете:  \n",
    "- Как реализовать линейную регрессию \"с нуля\" на Python.  \n",
    "- Как найти оптимальные коэффициенты линейной регрессии.  \n",
    "- Как делать прогнозы и оценить работу модели.  \n",
    "\n",
    "Давайте начнем!"
   ]
  },
  {
   "cell_type": "code",
   "execution_count": 554,
   "metadata": {
    "colab": {},
    "colab_type": "code",
    "id": "ak8b3KV45kVW"
   },
   "outputs": [],
   "source": [
    "import pandas as pd\n",
    "import numpy as np\n",
    "import matplotlib.pyplot as plt\n",
    "from sklearn.metrics import r2_score\n",
    "%config InlineBackend.figure_format='retina'\n",
    "import warnings\n",
    "warnings.simplefilter('ignore')"
   ]
  },
  {
   "cell_type": "markdown",
   "metadata": {},
   "source": [
    "Линейная регрессия предполагает линейную зависимость между входными переменными (X) и целевой переменной (y).  \n",
    "Это означает, что выход (y) может быть вычислен как **линейная комбинация** входных переменных (X).  \n",
    "Если Х состоит из одной переменной, то линейная регрессия называется простой.  \n",
    "В простой линейной регрессии мы можем использовать статистику обучающих данных для оценки коэффициентов, требуемых моделью для прогнозирования новых данных.  \n",
    "Уравнение простой линейной регрессии может быть записано как:\n",
    "$$y = w_0 + w_1 × X$$  \n",
    "Как видите, это простое уравнение прямой, известное нам еще со школы.  \n",
    "w0 и w1 - это коэффициенты, которые мы должны найти.  \n",
    "w0 называется смещением или bias и отвечает за смещение регрессионной прямой по оси y относительно начала координат.  \n",
    "w1 - это коэффициент при признаке Х, он отвечает за угол наклона прямой.  \n",
    "Как только коэффициенты известны, мы можем использовать это уравнение для оценки целевой переменной (y), на новых данных (X_test).  \n",
    "Когда признаков больше чем один, уравнение линейной регрессии принимает следующий вид:  \n",
    "$$y = w_0 + \\sum_{i=1}^m w_i x_i$$  \n",
    "Если мы добавим фиктивный признак x0 = 1, тогда уравнение можно переписать чуть более компактно, убрав w0 под знак суммы:\n",
    "$$y = \\sum_{i=0}^m w_i x_i = \\vec{w}^T \\vec{x}$$. \n",
    "Так же его можно записать в мтаричном виде:  \n",
    "$$\\vec y = X \\vec w + \\epsilon$$  \n",
    "ϵ – непрогнозируемая ошибка модели  \n",
    "\n",
    "Непрогнозируемая ошибка складывается из:\n",
    "- Смещение (Bias) – средняя ошибка по всевозможным наборам данных (показывает, насколько модель отличается от \"идеальной\")\n",
    "- Дисперсия (Var) – вариативность ошибки (то, на сколько ошибка будет отличаться, если обучать модель на разных данных).  \n",
    "Показывает, насколько утойчива модель.\n",
    "- неустранимой ошибки: σ"
   ]
  },
  {
   "cell_type": "markdown",
   "metadata": {},
   "source": [
    "![bias_var.png](bias_var.png)"
   ]
  },
  {
   "cell_type": "markdown",
   "metadata": {},
   "source": [
    "Сгенерируем простой пример для наглядности:"
   ]
  },
  {
   "cell_type": "code",
   "execution_count": 555,
   "metadata": {
    "colab": {},
    "colab_type": "code",
    "id": "i77tZbAd5plB"
   },
   "outputs": [],
   "source": [
    "X = np.array([[1, 1, 1, 1, 1,\n",
    "               1, 1, 1, 1, 1],\n",
    "              [1, 1, 2, 1, 3, \n",
    "               0, 5, 10, 1, 2]]).T"
   ]
  },
  {
   "cell_type": "code",
   "execution_count": 556,
   "metadata": {
    "colab": {
     "base_uri": "https://localhost:8080/",
     "height": 50
    },
    "colab_type": "code",
    "id": "U3vVuLOc6Us6",
    "outputId": "5faa41ba-addb-4772-b4ec-37580000e6cc"
   },
   "outputs": [
    {
     "data": {
      "text/plain": [
       "array([[ 1,  1],\n",
       "       [ 1,  1],\n",
       "       [ 1,  2],\n",
       "       [ 1,  1],\n",
       "       [ 1,  3],\n",
       "       [ 1,  0],\n",
       "       [ 1,  5],\n",
       "       [ 1, 10],\n",
       "       [ 1,  1],\n",
       "       [ 1,  2]])"
      ]
     },
     "execution_count": 556,
     "metadata": {},
     "output_type": "execute_result"
    }
   ],
   "source": [
    "X  # <- матрица \"объекты-признаки\" ([x0, x1])"
   ]
  },
  {
   "cell_type": "code",
   "execution_count": 557,
   "metadata": {},
   "outputs": [
    {
     "data": {
      "text/plain": [
       "array([ 1,  1,  2,  1,  3,  0,  5, 10,  1,  2])"
      ]
     },
     "execution_count": 557,
     "metadata": {},
     "output_type": "execute_result"
    }
   ],
   "source": [
    "X[:,1]"
   ]
  },
  {
   "cell_type": "code",
   "execution_count": 558,
   "metadata": {
    "colab": {
     "base_uri": "https://localhost:8080/",
     "height": 34
    },
    "colab_type": "code",
    "id": "ejifaMBe6VaP",
    "outputId": "190a541b-5c6d-48f6-8982-b513de5d7606"
   },
   "outputs": [
    {
     "data": {
      "text/plain": [
       "(10, 2)"
      ]
     },
     "execution_count": 558,
     "metadata": {},
     "output_type": "execute_result"
    }
   ],
   "source": [
    "X.shape"
   ]
  },
  {
   "cell_type": "code",
   "execution_count": 559,
   "metadata": {
    "colab": {},
    "colab_type": "code",
    "id": "VsNrKi1Q6Wmh"
   },
   "outputs": [],
   "source": [
    "y = [45, 55, 50, 59, 65, 35, 75, 80, 50, 60]"
   ]
  },
  {
   "cell_type": "markdown",
   "metadata": {},
   "source": [
    "Построим модель линейной регрессии!"
   ]
  },
  {
   "cell_type": "code",
   "execution_count": 560,
   "metadata": {
    "colab": {
     "base_uri": "https://localhost:8080/",
     "height": 282
    },
    "colab_type": "code",
    "id": "OTikrodr6n-i",
    "outputId": "9c347927-ae0d-40ba-bcd7-fdd9de2688bf"
   },
   "outputs": [
    {
     "data": {
      "image/png": "[encoded data removed]",
      "text/plain": [
       "<Figure size 720x576 with 1 Axes>"
      ]
     },
     "metadata": {
      "image/png": {
       "height": 467,
       "width": 600
      },
      "needs_background": "light"
     },
     "output_type": "display_data"
    }
   ],
   "source": [
    "plt.figure(figsize=(10, 8))\n",
    "plt.scatter(X[:,1], y)\n",
    "plt.plot(X[:,1], 45*np.ones(10) + X[:,1]*7, label='model_1')\n",
    "plt.plot(X[:,1], 40*np.ones(10) + X[:,1]*8, label='model_2')\n",
    "plt.plot(X[:,1], 50*np.ones(10) + X[:,1]*5, label='model_3')\n",
    "plt.legend();"
   ]
  },
  {
   "cell_type": "markdown",
   "metadata": {},
   "source": [
    "Сделаем прогноз значений y на обучающих данных:"
   ]
  },
  {
   "cell_type": "code",
   "execution_count": 561,
   "metadata": {
    "colab": {},
    "colab_type": "code",
    "id": "NntLxvtU7CbH"
   },
   "outputs": [],
   "source": [
    "y_pred1 = 45*np.ones(10) + X[:,1]*7\n",
    "y_pred2 = 40*np.ones(10) + X[:,1]*8\n",
    "y_pred3 = 50*np.ones(10) + X[:,1]*4"
   ]
  },
  {
   "cell_type": "code",
   "execution_count": 562,
   "metadata": {},
   "outputs": [
    {
     "data": {
      "text/plain": [
       "array([ 52.,  52.,  59.,  52.,  66.,  45.,  80., 115.,  52.,  59.])"
      ]
     },
     "execution_count": 562,
     "metadata": {},
     "output_type": "execute_result"
    }
   ],
   "source": [
    "y_pred1"
   ]
  },
  {
   "cell_type": "code",
   "execution_count": 563,
   "metadata": {},
   "outputs": [
    {
     "data": {
      "text/plain": [
       "array([ 48.,  48.,  56.,  48.,  64.,  40.,  80., 120.,  48.,  56.])"
      ]
     },
     "execution_count": 563,
     "metadata": {},
     "output_type": "execute_result"
    }
   ],
   "source": [
    "y_pred2"
   ]
  },
  {
   "cell_type": "code",
   "execution_count": 564,
   "metadata": {
    "colab": {
     "base_uri": "https://localhost:8080/",
     "height": 50
    },
    "colab_type": "code",
    "id": "XsDNASCq9VBe",
    "outputId": "910d806a-ccc1-45b8-bdac-56e3f26963c2"
   },
   "outputs": [
    {
     "data": {
      "text/plain": [
       "array([54., 54., 58., 54., 62., 50., 70., 90., 54., 58.])"
      ]
     },
     "execution_count": 564,
     "metadata": {},
     "output_type": "execute_result"
    }
   ],
   "source": [
    "y_pred3"
   ]
  },
  {
   "cell_type": "code",
   "execution_count": 565,
   "metadata": {},
   "outputs": [
    {
     "data": {
      "text/plain": [
       "[45, 55, 50, 59, 65, 35, 75, 80, 50, 60]"
      ]
     },
     "execution_count": 565,
     "metadata": {},
     "output_type": "execute_result"
    }
   ],
   "source": [
    "y"
   ]
  },
  {
   "cell_type": "markdown",
   "metadata": {},
   "source": [
    "### Как мы можем оценить работу модели?"
   ]
  },
  {
   "cell_type": "markdown",
   "metadata": {},
   "source": [
    "1. Разность прогнозов"
   ]
  },
  {
   "cell_type": "code",
   "execution_count": 566,
   "metadata": {
    "colab": {},
    "colab_type": "code",
    "id": "zbsqjAxH9WqI"
   },
   "outputs": [
    {
     "name": "stdout",
     "output_type": "stream",
     "text": [
      "Разность прогнозов наших моделей: -58.0, -34.0, -30.0\n"
     ]
    }
   ],
   "source": [
    "err1 = np.sum(y - y_pred1)\n",
    "err2 = np.sum(y - y_pred2)\n",
    "err3 = np.sum(y - y_pred3)\n",
    "print(f'Разность прогнозов наших моделей: {err1}, {err2}, {err3}')"
   ]
  },
  {
   "cell_type": "markdown",
   "metadata": {},
   "source": [
    "2. Средняя абсолютная ошибка (MAE)"
   ]
  },
  {
   "cell_type": "code",
   "execution_count": 567,
   "metadata": {
    "colab": {},
    "colab_type": "code",
    "id": "vUqCthPf9eYI"
   },
   "outputs": [
    {
     "name": "stdout",
     "output_type": "stream",
     "text": [
      "MAE наших моделей: 8.0, 8.4, 6.2\n"
     ]
    }
   ],
   "source": [
    "mae_1 = np.sum(np.abs(y - y_pred1))/len(y)\n",
    "mae_2 = np.sum(np.abs(y - y_pred2))/len(y)\n",
    "mae_3 = np.sum(np.abs(y - y_pred3))/len(y)\n",
    "print(f'MAE наших моделей: {mae_1}, {mae_2}, {mae_3}')"
   ]
  },
  {
   "cell_type": "code",
   "execution_count": 568,
   "metadata": {},
   "outputs": [],
   "source": [
    "def calc_mae(y, y_pred):\n",
    "    return np.mean(np.abs(y - y_pred))"
   ]
  },
  {
   "cell_type": "markdown",
   "metadata": {},
   "source": [
    "3. Среднеквадратичная ошибка (MSE)"
   ]
  },
  {
   "cell_type": "code",
   "execution_count": 569,
   "metadata": {
    "colab": {},
    "colab_type": "code",
    "id": "XTn2bZIg_EBS"
   },
   "outputs": [
    {
     "name": "stdout",
     "output_type": "stream",
     "text": [
      "MSE наших моделей: 154.4, 188.6, 55.0\n"
     ]
    }
   ],
   "source": [
    "mse_1 = np.mean((y - y_pred1)**2)\n",
    "mse_2 = np.mean((y - y_pred2)**2)\n",
    "mse_3 = np.mean((y - y_pred3)**2)\n",
    "print(f'MSE наших моделей: {mse_1}, {mse_2}, {mse_3}')"
   ]
  },
  {
   "cell_type": "code",
   "execution_count": 570,
   "metadata": {},
   "outputs": [],
   "source": [
    "def calc_mse(y, y_pred):\n",
    "    return np.mean((y - y_pred)**2)"
   ]
  },
  {
   "cell_type": "markdown",
   "metadata": {},
   "source": [
    "4. RMSE"
   ]
  },
  {
   "cell_type": "code",
   "execution_count": 571,
   "metadata": {},
   "outputs": [
    {
     "name": "stdout",
     "output_type": "stream",
     "text": [
      "MSE наших моделей: 12.425779653607254, 13.733171520082315, 7.416198487095663\n"
     ]
    }
   ],
   "source": [
    "rmse_1 = np.sqrt(np.mean((y - y_pred1)**2))\n",
    "rmse_2 = np.sqrt(np.mean((y - y_pred2)**2))\n",
    "rmse_3 = np.sqrt(np.mean((y - y_pred3)**2))\n",
    "print(f'MSE наших моделей: {rmse_1}, {rmse_2}, {rmse_3}')"
   ]
  },
  {
   "cell_type": "markdown",
   "metadata": {},
   "source": [
    "5. Коэффициент детерминации (R2)"
   ]
  },
  {
   "cell_type": "code",
   "execution_count": 572,
   "metadata": {},
   "outputs": [],
   "source": [
    "# предлагаю реализовать самим :)\n",
    "def calc_r2(y, y_pred):\n",
    "    SStot = sum((y - np.mean(y))**2) \n",
    "    SSreg = sum((y_pred - np.mean(y))**2) \n",
    "    SSres = sum((y - y_pred)**2) \n",
    "    r2 = 1 - SSres / SStot\n",
    "    return r2"
   ]
  },
  {
   "cell_type": "code",
   "execution_count": 573,
   "metadata": {},
   "outputs": [
    {
     "name": "stdout",
     "output_type": "stream",
     "text": [
      "0.0689821514712976 -0.13724071394114823 0.6683550410033767\n"
     ]
    }
   ],
   "source": [
    "print(calc_r2(y, y_pred1), calc_r2(y, y_pred2), calc_r2(y, y_pred3))"
   ]
  },
  {
   "cell_type": "code",
   "execution_count": 574,
   "metadata": {},
   "outputs": [
    {
     "name": "stdout",
     "output_type": "stream",
     "text": [
      "0.0689821514712976 -0.13724071394114823 0.6683550410033767\n"
     ]
    }
   ],
   "source": [
    "# проверка\n",
    "print(r2_score(y, y_pred1), r2_score(y, y_pred2), r2_score(y, y_pred3))"
   ]
  },
  {
   "cell_type": "markdown",
   "metadata": {},
   "source": [
    "### Методы поиска оптимальных параметров"
   ]
  },
  {
   "cell_type": "markdown",
   "metadata": {
    "colab_type": "text",
    "id": "R4zHyZ2Da5HV"
   },
   "source": [
    "1. **Метод наименьших квадратов (МНК)**   \n",
    "Суть метода: минимизируем среднеквадратичную ошибку (MSE) между реальным значением целевой переменной и прогнозом, выданным моделью.   \n",
    "$$\\large \\begin{array}{rcl}\\mathcal{L}\\left(X, \\vec{y}, \\vec{w} \\right) &=& \\frac{1}{2n} \\sum_{i=1}^n \\left(y_i - \\vec{w}^T \\vec{x}_i\\right)^2 \\\\ &=& \\frac{1}{2n} \\left\\| \\vec{y} - X \\vec{w} \\right\\|_2^2 \\\\ &=& \\frac{1}{2n} \\left(\\vec{y} - X \\vec{w}\\right)^T \\left(\\vec{y} - X \\vec{w}\\right) \\end{array}$$  \n",
    "\n",
    "Для этого необходимо вычислить производные по параметрам модели, приравнять их к нулю и решить полученные уравнения относительно w  \n",
    "$$\\large\\mathcal{L}{\\partial \\vec{w}} = 0$$\n",
    "$$\\vec{w} = \\left(X^T X\\right)^{-1} X^T \\vec{y}$$  "
   ]
  },
  {
   "cell_type": "markdown",
   "metadata": {},
   "source": [
    "Реализуем этот метод! (но для этого придется перемножить пару матриц О_о)  \n",
    "Для тех, кто подзабыл как это делается: http://matrixmultiplication.xyz"
   ]
  },
  {
   "cell_type": "code",
   "execution_count": 575,
   "metadata": {},
   "outputs": [
    {
     "name": "stdout",
     "output_type": "stream",
     "text": [
      "[47.23214286  3.91071429]\n"
     ]
    }
   ],
   "source": [
    "W = np.linalg.inv(np.dot(X.T, X)) @ X.T @ y\n",
    "print(W)"
   ]
  },
  {
   "cell_type": "code",
   "execution_count": 576,
   "metadata": {
    "colab": {
     "base_uri": "https://localhost:8080/",
     "height": 282
    },
    "colab_type": "code",
    "id": "Lyg-J3H7Bnv5",
    "outputId": "7701dd28-d123-4773-cd1f-1439abfb6d90"
   },
   "outputs": [
    {
     "data": {
      "image/png": "[encoded data removed]",
      "text/plain": [
       "<Figure size 720x576 with 1 Axes>"
      ]
     },
     "metadata": {
      "image/png": {
       "height": 467,
       "width": 600
      },
      "needs_background": "light"
     },
     "output_type": "display_data"
    }
   ],
   "source": [
    "plt.figure(figsize=(10, 8))\n",
    "plt.scatter(X[:,1], y)\n",
    "plt.plot(X[:,1], 45*np.ones(10) + X[:,1]*7, label='model_1')\n",
    "plt.plot(X[:,1], 40*np.ones(10) + X[:,1]*8, label='model_2')\n",
    "plt.plot(X[:,1], 50*np.ones(10) + X[:,1]*4, label='model_3')\n",
    "plt.plot(X[:,1], W[0] + W[1] * X[:,1], label='opt_model')\n",
    "plt.legend();"
   ]
  },
  {
   "cell_type": "markdown",
   "metadata": {
    "colab": {},
    "colab_type": "code",
    "id": "JTSC2cFnCd8T"
   },
   "source": [
    "Оценка модели:"
   ]
  },
  {
   "cell_type": "code",
   "execution_count": 577,
   "metadata": {
    "colab": {
     "base_uri": "https://localhost:8080/",
     "height": 34
    },
    "colab_type": "code",
    "id": "MYSrwISJDGfS",
    "outputId": "891bfd3a-142c-466c-a9d9-7ebfb303e86c"
   },
   "outputs": [
    {
     "data": {
      "text/plain": [
       "55.0"
      ]
     },
     "execution_count": 577,
     "metadata": {},
     "output_type": "execute_result"
    }
   ],
   "source": [
    "# метрики качества предыдущих моделей:\n",
    "calc_mse(y, y_pred3)"
   ]
  },
  {
   "cell_type": "code",
   "execution_count": 578,
   "metadata": {
    "colab": {
     "base_uri": "https://localhost:8080/",
     "height": 34
    },
    "colab_type": "code",
    "id": "AaE_x_nCDW3x",
    "outputId": "74189131-5508-4ba0-a346-42b2ba6ef418"
   },
   "outputs": [
    {
     "data": {
      "text/plain": [
       "6.2"
      ]
     },
     "execution_count": 578,
     "metadata": {},
     "output_type": "execute_result"
    }
   ],
   "source": [
    "calc_mae(y, y_pred3)"
   ]
  },
  {
   "cell_type": "code",
   "execution_count": 579,
   "metadata": {},
   "outputs": [
    {
     "data": {
      "text/plain": [
       "0.6683550410033767"
      ]
     },
     "execution_count": 579,
     "metadata": {},
     "output_type": "execute_result"
    }
   ],
   "source": [
    "calc_r2(y, y_pred3)"
   ]
  },
  {
   "cell_type": "code",
   "execution_count": 580,
   "metadata": {
    "colab": {
     "base_uri": "https://localhost:8080/",
     "height": 50
    },
    "colab_type": "code",
    "id": "Yxo6vu3NDaTC",
    "outputId": "7e152226-fe88-4e14-ebee-1501abb61966"
   },
   "outputs": [
    {
     "data": {
      "text/plain": [
       "array([51.14285714, 51.14285714, 55.05357143, 51.14285714, 58.96428571,\n",
       "       47.23214286, 66.78571429, 86.33928571, 51.14285714, 55.05357143])"
      ]
     },
     "execution_count": 580,
     "metadata": {},
     "output_type": "execute_result"
    }
   ],
   "source": [
    "# прогноз модели с оптимальными параметрами:\n",
    "y_pred4 = W[0] + W[1]*X[:,1]\n",
    "y_pred4"
   ]
  },
  {
   "cell_type": "code",
   "execution_count": 581,
   "metadata": {
    "colab": {
     "base_uri": "https://localhost:8080/",
     "height": 34
    },
    "colab_type": "code",
    "id": "_WtO6lvhDmQ6",
    "outputId": "8de8b895-85d8-448e-f565-b70e93a5dd25"
   },
   "outputs": [
    {
     "data": {
      "text/plain": [
       "45.93749999999999"
      ]
     },
     "execution_count": 581,
     "metadata": {},
     "output_type": "execute_result"
    }
   ],
   "source": [
    "calc_mse(y, y_pred4)"
   ]
  },
  {
   "cell_type": "code",
   "execution_count": 582,
   "metadata": {
    "colab": {
     "base_uri": "https://localhost:8080/",
     "height": 34
    },
    "colab_type": "code",
    "id": "ul3IEwWlDp-e",
    "outputId": "7567da7c-ce56-4eaa-8c90-9979ca755b4d",
    "scrolled": true
   },
   "outputs": [
    {
     "data": {
      "text/plain": [
       "6.182142857142858"
      ]
     },
     "execution_count": 582,
     "metadata": {},
     "output_type": "execute_result"
    }
   ],
   "source": [
    "calc_mae(y, y_pred4)"
   ]
  },
  {
   "cell_type": "code",
   "execution_count": 583,
   "metadata": {},
   "outputs": [
    {
     "data": {
      "text/plain": [
       "0.7230010853835022"
      ]
     },
     "execution_count": 583,
     "metadata": {},
     "output_type": "execute_result"
    }
   ],
   "source": [
    "calc_r2(y, y_pred4)"
   ]
  },
  {
   "cell_type": "markdown",
   "metadata": {
    "colab_type": "text",
    "id": "JAOgIXLRa--g"
   },
   "source": [
    "**2. Градиентный спуск**  \n",
    "\n",
    "Градиентный спуск - это итеративный алгоритм поиска весов признаков.  \n",
    "Алгоритм обновляет веса с учетом градиента функции потерь:  \n",
    "w = w − learning rate × error × X"
   ]
  },
  {
   "cell_type": "code",
   "execution_count": 584,
   "metadata": {},
   "outputs": [],
   "source": [
    "W = np.array([0.01, 0.1])"
   ]
  },
  {
   "cell_type": "code",
   "execution_count": 585,
   "metadata": {},
   "outputs": [
    {
     "data": {
      "text/plain": [
       "array([0.11, 0.11, 0.21, 0.11, 0.31, 0.01, 0.51, 1.01, 0.11, 0.21])"
      ]
     },
     "execution_count": 585,
     "metadata": {},
     "output_type": "execute_result"
    }
   ],
   "source": [
    "y_pred = np.dot(X, W)\n",
    "y_pred"
   ]
  },
  {
   "cell_type": "code",
   "execution_count": 586,
   "metadata": {},
   "outputs": [
    {
     "data": {
      "text/plain": [
       "3423.6233"
      ]
     },
     "execution_count": 586,
     "metadata": {},
     "output_type": "execute_result"
    }
   ],
   "source": [
    "calc_mse(y, y_pred)"
   ]
  },
  {
   "cell_type": "code",
   "execution_count": 587,
   "metadata": {
    "colab": {},
    "colab_type": "code",
    "id": "DNebwUP7Fd8F"
   },
   "outputs": [],
   "source": [
    "lr = 0.01"
   ]
  },
  {
   "cell_type": "code",
   "execution_count": 588,
   "metadata": {
    "colab": {},
    "colab_type": "code",
    "id": "5DKkvmkwHdOx"
   },
   "outputs": [],
   "source": [
    "grad_0 = (1/len(y))*lr*(2*np.sum(X[:,0]*(W[0]*X[:,0] - y)))\n",
    "grad_1 = (1/len(y))*lr*(2*np.sum(X[:,1]*(W[1]*X[:,1] - y)))"
   ]
  },
  {
   "cell_type": "code",
   "execution_count": 589,
   "metadata": {
    "colab": {
     "base_uri": "https://localhost:8080/",
     "height": 34
    },
    "colab_type": "code",
    "id": "ZVRCF5P2MYI6",
    "outputId": "0b0e2f05-a23c-4bf8-f37d-b4240d2e0af0"
   },
   "outputs": [
    {
     "data": {
      "text/plain": [
       "1.1578"
      ]
     },
     "execution_count": 589,
     "metadata": {},
     "output_type": "execute_result"
    }
   ],
   "source": [
    "W[0] = W[0] - grad_0; W[0]"
   ]
  },
  {
   "cell_type": "code",
   "execution_count": 590,
   "metadata": {},
   "outputs": [
    {
     "data": {
      "text/plain": [
       "3.6688"
      ]
     },
     "execution_count": 590,
     "metadata": {},
     "output_type": "execute_result"
    }
   ],
   "source": [
    "W[1] = W[1] - grad_1; W[1]"
   ]
  },
  {
   "cell_type": "code",
   "execution_count": 591,
   "metadata": {},
   "outputs": [
    {
     "data": {
      "text/plain": [
       "array([ 4.8266,  4.8266,  8.4954,  4.8266, 12.1642,  1.1578, 19.5018,\n",
       "       37.8458,  4.8266,  8.4954])"
      ]
     },
     "execution_count": 591,
     "metadata": {},
     "output_type": "execute_result"
    }
   ],
   "source": [
    "y_pred = np.dot(X, W)\n",
    "y_pred"
   ]
  },
  {
   "cell_type": "code",
   "execution_count": 592,
   "metadata": {},
   "outputs": [
    {
     "data": {
      "text/plain": [
       "2227.5964155919996"
      ]
     },
     "execution_count": 592,
     "metadata": {},
     "output_type": "execute_result"
    }
   ],
   "source": [
    "calc_mse(y, y_pred)"
   ]
  },
  {
   "cell_type": "code",
   "execution_count": null,
   "metadata": {},
   "outputs": [],
   "source": []
  },
  {
   "cell_type": "markdown",
   "metadata": {},
   "source": [
    "### Домашнее задание:"
   ]
  },
  {
   "cell_type": "markdown",
   "metadata": {
    "colab_type": "text",
    "id": "huXrhXQsZTMt"
   },
   "source": [
    "1. Подберите скорость обучения (lr) и количество итераций (epoch):"
   ]
  },
  {
   "cell_type": "code",
   "execution_count": 593,
   "metadata": {
    "colab": {
     "base_uri": "https://localhost:8080/",
     "height": 34
    },
    "colab_type": "code",
    "id": "VEXjDozNHdAo",
    "outputId": "7d12bb79-21b7-43fb-fd8e-d116a2af3bb7"
   },
   "outputs": [
    {
     "data": {
      "text/plain": [
       "(array([1. , 0.5]), 0.001)"
      ]
     },
     "execution_count": 593,
     "metadata": {},
     "output_type": "execute_result"
    }
   ],
   "source": [
    "n = X.shape[1]\n",
    "epoch = 300\n",
    "lr = 0.001\n",
    "W = np.array([1, 0.5])\n",
    "W, lr"
   ]
  },
  {
   "cell_type": "code",
   "execution_count": 594,
   "metadata": {
    "colab": {
     "base_uri": "https://localhost:8080/",
     "height": 185
    },
    "colab_type": "code",
    "id": "IDB22MQKMYaJ",
    "outputId": "4c03219e-a57c-4583-f439-6699fd0619bb"
   },
   "outputs": [
    {
     "name": "stdout",
     "output_type": "stream",
     "text": [
      "# итерация: 0, MSE: 3173.15, веса: [1.551 2.2  ]\n",
      "# итерация: 100, MSE: 414.5541707681393, веса: [21.1833847   8.72081594]\n",
      "# итерация: 200, MSE: 175.90244862743472, веса: [31.7649089   6.76685736]\n"
     ]
    }
   ],
   "source": [
    "for i in range(epoch):\n",
    "    y_pred = np.dot(X, W)\n",
    "    err = calc_mse(y, y_pred)\n",
    "    for j in range(W.shape[0]):\n",
    "        W[j] -= lr * (1/n * 2 * np.sum(X[:,j] * (y_pred - y)))\n",
    "    if i % 100 == 0:\n",
    "        print(f'# итерация: {i}, MSE: {err}, веса: {W}')"
   ]
  },
  {
   "cell_type": "code",
   "execution_count": 595,
   "metadata": {
    "colab": {
     "base_uri": "https://localhost:8080/",
     "height": 185
    },
    "colab_type": "code",
    "id": "IDB22MQKMYaJ",
    "outputId": "4c03219e-a57c-4583-f439-6699fd0619bb",
    "scrolled": true
   },
   "outputs": [
    {
     "name": "stdout",
     "output_type": "stream",
     "text": [
      "Значение epoch 345. Минимальное значение ошибки при lr = 0.01: 45.9375000000001\n"
     ]
    },
    {
     "data": {
      "image/png": "[encoded data removed]",
      "text/plain": [
       "<Figure size 432x288 with 1 Axes>"
      ]
     },
     "metadata": {
      "image/png": {
       "height": 263,
       "width": 383
      },
      "needs_background": "light"
     },
     "output_type": "display_data"
    }
   ],
   "source": [
    "n = X.shape[1]\n",
    "epoch = 100000\n",
    "lr = 0.01\n",
    "W = np.array([1, 0.5])\n",
    "W, lr\n",
    "err = 0\n",
    "box = []\n",
    "err_last = 999999\n",
    "\n",
    "for i in range(epoch):      \n",
    "    \n",
    "    for j in range(W.shape[0]):\n",
    "        W[j] -= lr * (1/n * 2 * np.sum(X[:,j] * (y_pred - y)))\n",
    "    y_pred = np.dot(X, W)\n",
    "    \n",
    "    err = calc_mse(y, y_pred)\n",
    "    box.append(err)\n",
    "    if err_last > err:\n",
    "        err_last = err\n",
    "#         print(\"err_last\", err_last)\n",
    "    else:\n",
    "        print(f\"Значение epoch {i}. Минимальное значение ошибки при lr = {lr}: {err}\" )\n",
    "        break\n",
    "\n",
    "plt.plot(box) \n",
    "plt.title(\"Динамика снижения ошибки\")\n",
    "plt.show()\n",
    "# Значение epoch 3237. Минимальное значение ошибки при lr = 0.001: 45.937500000002316"
   ]
  },
  {
   "cell_type": "markdown",
   "metadata": {
    "colab_type": "text",
    "id": "5Qu1o4JhZYwI"
   },
   "source": [
    "*2. В этом коде мы избавляемся от итераций по весам, но тут есть ошибка, исправьте ее:"
   ]
  },
  {
   "cell_type": "code",
   "execution_count": 619,
   "metadata": {
    "scrolled": true
   },
   "outputs": [
    {
     "data": {
      "text/plain": [
       "array([10.88372093, 10.38372093])"
      ]
     },
     "execution_count": 619,
     "metadata": {},
     "output_type": "execute_result"
    }
   ],
   "source": [
    "W"
   ]
  },
  {
   "cell_type": "code",
   "execution_count": 620,
   "metadata": {},
   "outputs": [
    {
     "name": "stdout",
     "output_type": "stream",
     "text": [
      "[47.23214286  3.91071429]\n"
     ]
    }
   ],
   "source": [
    "W = np.linalg.inv(np.dot(X.T, X)) @ X.T @ y\n",
    "print(W)"
   ]
  },
  {
   "cell_type": "code",
   "execution_count": 599,
   "metadata": {
    "colab": {
     "base_uri": "https://localhost:8080/",
     "height": 185
    },
    "colab_type": "code",
    "id": "WZZzDCQLY4pA",
    "outputId": "28f58ade-72f2-4381-809d-2417752d56e4"
   },
   "outputs": [
    {
     "name": "stdout",
     "output_type": "stream",
     "text": [
      "# итерация: 0, MSE: 3173.15, веса: [18.  17.5]\n",
      "# итерация: 100, MSE: 755.4079772850209, веса: [10.88372093 10.38372093]\n",
      "# итерация: 200, MSE: 755.407977285019, веса: [10.88372093 10.38372093]\n",
      "# итерация: 300, MSE: 755.407977285019, веса: [10.88372093 10.38372093]\n",
      "# итерация: 400, MSE: 755.407977285019, веса: [10.88372093 10.38372093]\n"
     ]
    }
   ],
   "source": [
    "n = X.shape[1]\n",
    "epoch = 500\n",
    "lr = 0.01\n",
    "W = np.array([1, 0.5])\n",
    "W, lr\n",
    "A = X[:, j]\n",
    "\n",
    "for i in range(epoch):\n",
    "    y_pred = np.dot(X, W)\n",
    "    err = calc_mse(y, y_pred)\n",
    "#     for j in range(W.shape[0]):\n",
    "#         W[j] -= lr * (1/n * 2 * np.sum(X[:, j] * (y_pred - y)))\n",
    "    \n",
    "    W -= (lr * (1/n * 2 * np.sum(A * (y_pred - y))))\n",
    "    \n",
    "    if i % 100 == 0:\n",
    "        print(f'# итерация: {i}, MSE: {err}, веса: {W}')"
   ]
  },
  {
   "cell_type": "code",
   "execution_count": 621,
   "metadata": {
    "colab": {
     "base_uri": "https://localhost:8080/",
     "height": 185
    },
    "colab_type": "code",
    "id": "WZZzDCQLY4pA",
    "outputId": "28f58ade-72f2-4381-809d-2417752d56e4"
   },
   "outputs": [
    {
     "name": "stdout",
     "output_type": "stream",
     "text": [
      "Итерация 184. Значение ошибки при lr = 0.001: 755.4079772850195\n"
     ]
    },
    {
     "data": {
      "image/png": "[encoded data removed]",
      "text/plain": [
       "<Figure size 432x288 with 1 Axes>"
      ]
     },
     "metadata": {
      "image/png": {
       "height": 263,
       "width": 383
      },
      "needs_background": "light"
     },
     "output_type": "display_data"
    }
   ],
   "source": [
    "# Это задание недопонял\n",
    "n = X.shape[1]\n",
    "# epoch = 500\n",
    "lr = 0.001\n",
    "W = np.array([1, 0.5])\n",
    "W, lr\n",
    "A = X[:, j]\n",
    "\n",
    "box = []\n",
    "err_last = 999999\n",
    "i = 1\n",
    "x = True\n",
    "\n",
    "while x == True: \n",
    "    y_pred = np.dot(X, W)\n",
    "    err = calc_mse(y, y_pred)\n",
    "#    print(\"err\")\n",
    "#     for j in range(W.shape[0]):\n",
    "#         W[j] -= lr * (1/n * 2 * np.sum(X[:, j] * (y_pred - y)))\n",
    "    \n",
    "    W -= (lr * (1/n * 2 * np.sum(A * (y_pred - y))))\n",
    "    \n",
    "    if i % 1000 == 0:\n",
    "        print(f'# итерация: {i}, MSE: {err}, веса: {W}')\n",
    "        \n",
    "    x = err_last > err \n",
    "    i += 1\n",
    "    box.append(err)\n",
    "    err_last = err\n",
    "\n",
    "print(f\"Итерация {i}. Значение ошибки при lr = {lr}: {err}\" )\n",
    "\n",
    "plt.plot(box) \n",
    "plt.title(\"Динамика снижения ошибки\")\n",
    "plt.show()"
   ]
  },
  {
   "cell_type": "code",
   "execution_count": null,
   "metadata": {
    "colab": {},
    "colab_type": "code",
    "id": "_OQ4arrXMYGb"
   },
   "outputs": [],
   "source": []
  },
  {
   "cell_type": "markdown",
   "metadata": {
    "colab": {},
    "colab_type": "code",
    "id": "kGLyytFgHdco"
   },
   "source": [
    "Задание **3: вместо того, чтобы задавать количество итераций, задайте условие остановки алгоритма - когда ошибка за итерацию\n",
    "начинает изменяться ниже определенного порога (упрощенный аналог параметра tol в линейной регрессии в sklearn)."
   ]
  },
  {
   "cell_type": "code",
   "execution_count": 601,
   "metadata": {},
   "outputs": [
    {
     "name": "stdout",
     "output_type": "stream",
     "text": [
      "Значение epoch 130. Порог ошибки 0.0001. Значение ошибки при lr = 0.01: 45.938379887287674\n"
     ]
    }
   ],
   "source": [
    "# Проверка условия\n",
    "\n",
    "n = X.shape[1]\n",
    "epoch = 100000\n",
    "lr = 0.01\n",
    "W = np.array([1, 0.5])\n",
    "W, lr\n",
    "err = 0\n",
    "\n",
    "err_last = 999999\n",
    "\n",
    "trashold = 0.0001\n",
    "\n",
    "#while x == True: \n",
    "        \n",
    "for i in range(epoch):     \n",
    "    for j in range(W.shape[0]):\n",
    "        W[j] -= lr * (1/n * 2 * np.sum(X[:,j] * (y_pred - y)))\n",
    "    y_pred = np.dot(X, W)\n",
    "\n",
    "    err = calc_mse(y, y_pred)\n",
    "\n",
    "    if err_last - err > trashold: # Проверка условия\n",
    "        err_last = err\n",
    "    #         print(\"err_last\", err_last)\n",
    "    else:\n",
    "        print(f\"Значение epoch {i}. Порог ошибки {trashold}. Значение ошибки при lr = {lr}: {err}\" )\n",
    "        break"
   ]
  },
  {
   "cell_type": "code",
   "execution_count": 602,
   "metadata": {},
   "outputs": [
    {
     "name": "stdout",
     "output_type": "stream",
     "text": [
      "Порог ошибки 0.001. Значение ошибки при lr = 0.001: 46.03218329816916\n"
     ]
    },
    {
     "data": {
      "image/png": "[encoded data removed]",
      "text/plain": [
       "<Figure size 432x288 with 1 Axes>"
      ]
     },
     "metadata": {
      "image/png": {
       "height": 263,
       "width": 383
      },
      "needs_background": "light"
     },
     "output_type": "display_data"
    }
   ],
   "source": [
    "# Проверка условия без итераций по epoch\n",
    "n = X.shape[1]\n",
    "lr = 0.001\n",
    "W = np.array([1, 0.5])\n",
    "W, lr\n",
    "\n",
    "err = 1\n",
    "err_last = 999999999\n",
    "box = []\n",
    "trashold = 0.001\n",
    "\n",
    "i = 1\n",
    "x = True\n",
    "\n",
    "while x == True: \n",
    "    for j in range(W.shape[0]):\n",
    "        W[j] -= lr * (1/n * 2 * np.sum(X[:,j] * (y_pred - y)))    \n",
    "    y_pred = np.dot(X, W)\n",
    "    \n",
    "    err = calc_mse(y, y_pred)\n",
    "    x = err_last - err > trashold \n",
    "    i += 1\n",
    "    box.append(err)\n",
    "    err_last = err\n",
    "\n",
    "print(f\"Порог ошибки {trashold}. Значение ошибки при lr = {lr}: {err}\" )\n",
    "\n",
    "plt.plot(box) \n",
    "plt.title(\"Динамика снижения ошибки\")\n",
    "plt.show()"
   ]
  },
  {
   "cell_type": "code",
   "execution_count": null,
   "metadata": {},
   "outputs": [],
   "source": []
  }
 ],
 "metadata": {
  "colab": {
   "collapsed_sections": [],
   "name": "Lesson1.ipynb",
   "provenance": []
  },
  "kernelspec": {
   "display_name": "Python 3",
   "language": "python",
   "name": "python3"
  },
  "language_info": {
   "codemirror_mode": {
    "name": "ipython",
    "version": 3
   },
   "file_extension": ".py",
   "mimetype": "text/x-python",
   "name": "python",
   "nbconvert_exporter": "python",
   "pygments_lexer": "ipython3",
   "version": "3.7.4"
  }
 },
 "nbformat": 4,
 "nbformat_minor": 1
}
